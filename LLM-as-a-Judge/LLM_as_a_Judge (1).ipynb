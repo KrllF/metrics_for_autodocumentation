{
  "nbformat": 4,
  "nbformat_minor": 0,
  "metadata": {
    "colab": {
      "provenance": []
    },
    "kernelspec": {
      "name": "python3",
      "display_name": "Python 3"
    },
    "language_info": {
      "name": "python"
    }
  },
  "cells": [
    {
      "cell_type": "code",
      "execution_count": null,
      "metadata": {
        "id": "UHGix88JUOx6"
      },
      "outputs": [],
      "source": [
        "api_keyy = \"ТВОЙ АПИ КЛЮЧ\""
      ]
    },
    {
      "cell_type": "code",
      "source": [
        "from openai import OpenAI\n",
        "import json\n",
        "import time\n",
        "from pathlib import Path\n",
        "import logging\n",
        "from typing import Dict, Any, List\n",
        "\n",
        "logging.basicConfig(level=logging.INFO)\n",
        "logger = logging.getLogger(__name__)\n",
        "\n",
        "class DocumentationEvaluator:\n",
        "    def __init__(self, api_key: str):\n",
        "        self.client = OpenAI(api_key=api_key)\n",
        "        self.metrics_config = {\n",
        "            \"weights\": {\n",
        "                \"completeness_score\": 0.3,\n",
        "                \"accuracy_score\": 0.25,\n",
        "                \"style_score\": 0.15,\n",
        "                \"examples_score\": 0.1,\n",
        "                \"readability_score\": 0.2\n",
        "            },\n",
        "            \"thresholds\": {\n",
        "                \"critical_score\": 5.0,\n",
        "                \"max_retries\": 3\n",
        "            }\n",
        "        }\n",
        "\n",
        "    def _read_file(self, path: str) -> str:\n",
        "        try:\n",
        "            return Path(path).read_text(encoding=\"utf-8\")\n",
        "        except Exception as e:\n",
        "            logger.error(f\"File error: {str(e)}\")\n",
        "            raise\n",
        "\n",
        "    def _build_prompt(self, code: str, doc: str) -> List[Dict[str, str]]:\n",
        "        return [\n",
        "            {\n",
        "                \"role\": \"system\",\n",
        "                \"content\": \"\"\"Ты senior Python-инженер. Проанализируй документацию и верни JSON с:\n",
        "- completeness_score (0-10): покрытие всех сущностей\n",
        "- accuracy_score (0-10): соответствие коду\n",
        "- style_score (0-10): PEP-257, типы\n",
        "- examples_score (0-10): наличие примеров\n",
        "- readability_score (0-10): ясность для новичков\n",
        "- errors: список строк с критичными ошибками\n",
        "- warnings: список потенциальных проблем\n",
        "- suggestions: рекомендации по улучшению\"\"\"\n",
        "            },\n",
        "            {\n",
        "                \"role\": \"user\",\n",
        "                \"content\": f\"[Код]\\n{code}\\n\\n[Документация]\\n{doc}\"\n",
        "            }\n",
        "        ]\n",
        "\n",
        "    def _calculate_weighted_score(self, metrics: Dict[str, Any]) -> float:\n",
        "        try:\n",
        "            return sum(\n",
        "                self.metrics_config[\"weights\"][k] * metrics.get(k, 0)\n",
        "                for k in self.metrics_config[\"weights\"]\n",
        "            )\n",
        "        except Exception as e:\n",
        "            logger.error(f\"Score calculation error: {str(e)}\")\n",
        "            return 0.0\n",
        "\n",
        "    def _validate_metrics(self, metrics: Dict) -> bool:\n",
        "        required = [\n",
        "            \"completeness_score\",\n",
        "            \"accuracy_score\",\n",
        "            \"style_score\",\n",
        "            \"examples_score\",\n",
        "            \"readability_score\",\n",
        "            \"errors\",\n",
        "            \"suggestions\"\n",
        "        ]\n",
        "        return all(key in metrics for key in required)\n",
        "\n",
        "    def evaluate(self, code_path: str, doc_path: str) -> Dict[str, Any]:\n",
        "        try:\n",
        "            code = self._read_file(code_path)\n",
        "            doc = self._read_file(doc_path)\n",
        "        except Exception as e:\n",
        "            return {\"error\": str(e)}\n",
        "\n",
        "        for attempt in range(self.metrics_config[\"thresholds\"][\"max_retries\"]):\n",
        "            try:\n",
        "                start_time = time.time()\n",
        "\n",
        "                response = self.client.chat.completions.create(\n",
        "                    model=\"gpt-4-turbo\",\n",
        "                    messages=self._build_prompt(code, doc),\n",
        "                    temperature=0.1,\n",
        "                    response_format={\"type\": \"json_object\"},\n",
        "                    timeout=15\n",
        "                )\n",
        "\n",
        "                metrics = json.loads(response.choices[0].message.content)\n",
        "\n",
        "                if not self._validate_metrics(metrics):\n",
        "                    raise ValueError(\"Invalid metrics structure\")\n",
        "\n",
        "                metrics[\"weighted_score\"] = self._calculate_weighted_score(metrics)\n",
        "                metrics[\"response_time\"] = time.time() - start_time\n",
        "                metrics[\"errors_count\"] = len(metrics.get(\"errors\", []))\n",
        "                metrics[\"warnings_count\"] = len(metrics.get(\"warnings\", []))\n",
        "\n",
        "                if metrics[\"weighted_score\"] < self.metrics_config[\"thresholds\"][\"critical_score\"]:\n",
        "                    logger.warning(\"Low documentation score detected!\")\n",
        "\n",
        "                return metrics\n",
        "\n",
        "            except json.JSONDecodeError:\n",
        "                logger.error(\"Invalid JSON response, retrying...\")\n",
        "                time.sleep(1)\n",
        "            except Exception as e:\n",
        "                logger.error(f\"API Error: {str(e)}\")\n",
        "                if attempt == self.metrics_config[\"thresholds\"][\"max_retries\"] - 1:\n",
        "                    return {\"error\": str(e)}\n",
        "\n",
        "        return {\"error\": \"Max retries exceeded\"}\n"
      ],
      "metadata": {
        "id": "7pMZ3zDTUUMN"
      },
      "execution_count": null,
      "outputs": []
    },
    {
      "cell_type": "code",
      "source": [
        "if __name__ == \"__main__\":\n",
        "    evaluator = DocumentationEvaluator(api_key=api_keyy)\n",
        "\n",
        "    result = evaluator.evaluate(\n",
        "        code_path=\"/content/main.py\", #Путь до файла с кодом\n",
        "        doc_path=\"/content/doc.md\" #Путь до файла с докой\n",
        "    )\n",
        "\n",
        "    print(json.dumps(result, indent=2, ensure_ascii=False))"
      ],
      "metadata": {
        "colab": {
          "base_uri": "https://localhost:8080/"
        },
        "id": "EcGoEGxgXtSu",
        "outputId": "26df1153-3882-493f-aee9-42bbac86bbb1"
      },
      "execution_count": null,
      "outputs": [
        {
          "output_type": "stream",
          "name": "stderr",
          "text": [
            "WARNING:__main__:Low documentation score detected!\n"
          ]
        },
        {
          "output_type": "stream",
          "name": "stdout",
          "text": [
            "{\n",
            "  \"completeness_score\": 4,\n",
            "  \"accuracy_score\": 3,\n",
            "  \"style_score\": 5,\n",
            "  \"examples_score\": 0,\n",
            "  \"readability_score\": 5,\n",
            "  \"errors\": [\n",
            "    \"calculate_volume: Неверное описание (объем, а не площадь), неверные типы аргументов и возвращаемого значения в документации.\",\n",
            "    \"BankAccount.withdraw: Неверное описание возвращаемого значения, метод возвращает bool или 'Success', а не всегда True.\",\n",
            "    \"BankAccount.currency_format: Неверный символ валюты в документации (должен быть доллар, а не евро).\",\n",
            "    \"complex_operation: Неверное описание операции (сумма квадратов, а не факториал).\"\n",
            "  ],\n",
            "  \"warnings\": [\n",
            "    \"BankAccount._balance: Не документировано приватное свойство.\",\n",
            "    \"BankAccount.balance: Скрытый side-effect в геттере.\",\n",
            "    \"BankAccount.withdraw: Неконсистентные типы возвращаемого значения (bool или строка).\"\n",
            "  ],\n",
            "  \"suggestions\": [\n",
            "    \"Добавить примеры использования для каждой функции и метода.\",\n",
            "    \"Улучшить описание функций и методов, уточнить параметры и возвращаемые значения.\",\n",
            "    \"Исправить ошибки в документации, соответствующие реальной функциональности кода.\",\n",
            "    \"Документировать все публичные и приватные атрибуты классов.\",\n",
            "    \"Устранить несоответствия в типах возвращаемых значений и описании.\",\n",
            "    \"Следовать стандартам PEP-257 для документирования Python кода.\"\n",
            "  ],\n",
            "  \"weighted_score\": 3.7,\n",
            "  \"response_time\": 11.913112878799438,\n",
            "  \"errors_count\": 4,\n",
            "  \"warnings_count\": 3\n",
            "}\n"
          ]
        }
      ]
    },
    {
      "cell_type": "code",
      "source": [],
      "metadata": {
        "id": "DxyXQ3P-Z41g"
      },
      "execution_count": null,
      "outputs": []
    }
  ]
}